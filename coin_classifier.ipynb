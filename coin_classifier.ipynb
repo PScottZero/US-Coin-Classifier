{
  "cells": [
    {
      "cell_type": "markdown",
      "metadata": {
        "id": "_YM5LwBDX-Xo"
      },
      "source": [
        "# Imports"
      ]
    },
    {
      "cell_type": "code",
      "execution_count": null,
      "metadata": {
        "colab": {
          "base_uri": "https://localhost:8080/"
        },
        "id": "vzDaLFYSX-Xs",
        "outputId": "4bd25266-f4fc-4d1d-8ddf-3c41419d4604"
      },
      "outputs": [],
      "source": [
        "import tensorflow as tf\n",
        "from tensorflow.keras.models import load_model\n",
        "from tensorflow.keras.callbacks import EarlyStopping, ModelCheckpoint\n",
        "from tensorflow.keras.preprocessing.image import ImageDataGenerator\n",
        "from tensorflow.keras.applications import ResNet50V2\n",
        "from tensorflow_addons.metrics import F1Score\n",
        "from sklearn.metrics import ConfusionMatrixDisplay, confusion_matrix, accuracy_score, precision_score, recall_score, f1_score\n",
        "import matplotlib.pyplot as plt\n",
        "import numpy as np\n",
        "import os"
      ]
    },
    {
      "cell_type": "markdown",
      "metadata": {
        "id": "jZ8ytyQSX-Xu"
      },
      "source": [
        "# Load Dataset"
      ]
    },
    {
      "cell_type": "markdown",
      "metadata": {
        "id": "ZlRy8ZFhAMdj"
      },
      "source": [
        "Set directories based on environment"
      ]
    },
    {
      "cell_type": "code",
      "execution_count": null,
      "metadata": {
        "colab": {
          "base_uri": "https://localhost:8080/"
        },
        "id": "PKvI8gJ9AMdk",
        "outputId": "bf54d3f0-4225-4b74-b82a-3a6e4d2cf908"
      },
      "outputs": [],
      "source": [
        "# >>>> google colab <<<<\n",
        "# from google.colab import drive\n",
        "# drive.mount('/content/drive')\n",
        "# base_dir = '/content/drive/MyDrive/coin_classifier/'\n",
        "\n",
        "# >>>> local <<<<\n",
        "base_dir = '.'\n",
        "\n",
        "\n",
        "dataset_dir = f'{base_dir}/ebay_images/'\n",
        "model_dir = f'{base_dir}/saved_models/coin_classifier/'\n",
        "tflite_dir = f'{base_dir}/saved_models/coin_classifier.tflite'"
      ]
    },
    {
      "cell_type": "markdown",
      "metadata": {
        "id": "BdAkZMPAAMdl"
      },
      "source": [
        "Create training and validation data generators"
      ]
    },
    {
      "cell_type": "code",
      "execution_count": null,
      "metadata": {
        "colab": {
          "base_uri": "https://localhost:8080/"
        },
        "id": "97gV04XSX-Xu",
        "outputId": "a10fa32e-445f-48b1-c998-27acd63f44c2"
      },
      "outputs": [],
      "source": [
        "batch_size = 64\n",
        "img_dim = 224\n",
        "img_size = (img_dim, img_dim)\n",
        "img_shape = (img_dim, img_dim, 3)\n",
        "\n",
        "train_datagen = ImageDataGenerator(\n",
        "  height_shift_range=0.1,\n",
        "  width_shift_range=0.1,\n",
        "  rotation_range=45,\n",
        "  brightness_range=(0.8, 1.2),\n",
        "  rescale=1./255,\n",
        "  validation_split=0.2,\n",
        ")\n",
        "test_datagen = ImageDataGenerator(\n",
        "  rescale=1./255,\n",
        "  validation_split=0.2,\n",
        ")\n",
        "\n",
        "train_generator = train_datagen.flow_from_directory(\n",
        "  dataset_dir,\n",
        "  target_size=img_size,\n",
        "  batch_size=batch_size,\n",
        "  subset='training',\n",
        "  seed=1234,\n",
        ")\n",
        "test_generator = test_datagen.flow_from_directory(\n",
        "  dataset_dir,\n",
        "  target_size=img_size,\n",
        "  batch_size=batch_size,\n",
        "  subset='validation',\n",
        "  shuffle=False,\n",
        "  seed=1234,\n",
        ")\n",
        "\n",
        "labels = list(train_generator.class_indices.keys())\n",
        "class_count = len(labels)"
      ]
    },
    {
      "cell_type": "markdown",
      "metadata": {
        "id": "Vsk5PIwdX-Xw"
      },
      "source": [
        "Display coin images"
      ]
    },
    {
      "cell_type": "code",
      "execution_count": null,
      "metadata": {
        "colab": {
          "base_uri": "https://localhost:8080/",
          "height": 917
        },
        "id": "0sJ2M_EGX-Xx",
        "outputId": "e693c611-053e-494f-b533-c55e311b62fb"
      },
      "outputs": [],
      "source": [
        "fig = plt.figure(figsize=(16, 16))\n",
        "X_batch, y_batch = train_generator.next()\n",
        "for i in range(min(len(X_batch), 64)):\n",
        "  fig.add_subplot(8, 8, i + 1)\n",
        "  plt.imshow(X_batch[i])\n",
        "  plt.axis('off')\n",
        "  plt.title(labels[np.argmax(y_batch[i])][:14])"
      ]
    },
    {
      "cell_type": "markdown",
      "metadata": {
        "id": "fq5vZi4yX-Xz"
      },
      "source": [
        "# Training"
      ]
    },
    {
      "cell_type": "markdown",
      "metadata": {},
      "source": [
        "Create coin classifier model using ResNet50 architecture"
      ]
    },
    {
      "cell_type": "code",
      "execution_count": null,
      "metadata": {
        "colab": {
          "base_uri": "https://localhost:8080/"
        },
        "id": "IqJZs1rcX-Xy",
        "outputId": "383d3eda-1c4f-4363-c614-4da69ce3ffd9"
      },
      "outputs": [],
      "source": [
        "coin_classifier = ResNet50V2(classes=class_count, weights=None)\n",
        "trainable_param_count = np.sum([np.prod(layer.shape) for layer in coin_classifier.trainable_weights])\n",
        "nontrainable_param_count = np.sum([np.prod(layer.shape) for layer in coin_classifier.non_trainable_weights])\n",
        "print('>>>> ResNet50 Model Summary <<<<')\n",
        "print(f'Input shape: {coin_classifier.input.shape}')\n",
        "print(f'Output shape: {coin_classifier.output.shape}')\n",
        "print(f'Number of layers: {len(coin_classifier.layers)}')\n",
        "print(f'Number of trainable parameters: {trainable_param_count}')\n",
        "print(f'Number of non-trainable parameters: {nontrainable_param_count}')\n",
        "print(f'Total number of parameters: {trainable_param_count+nontrainable_param_count}')"
      ]
    },
    {
      "cell_type": "markdown",
      "metadata": {},
      "source": [
        "Train coin classifier"
      ]
    },
    {
      "cell_type": "code",
      "execution_count": null,
      "metadata": {
        "colab": {
          "base_uri": "https://localhost:8080/"
        },
        "id": "cr_MPvN5AMdp",
        "outputId": "ecdd3326-c75c-4d95-b024-2d6f2ceeb50e"
      },
      "outputs": [],
      "source": [
        "coin_classifier.compile(optimizer='adam', loss='categorical_crossentropy', metrics=['accuracy', F1Score(class_count)])\n",
        "history = coin_classifier.fit(\n",
        "  train_generator,\n",
        "  callbacks=[\n",
        "    EarlyStopping(monitor='val_accuracy', patience=20),\n",
        "    ModelCheckpoint('checkpoint', monitor='val_accuracy', save_best_only=True),\n",
        "  ],\n",
        "  validation_data=test_generator,\n",
        "  epochs=200,\n",
        ")\n",
        "coin_classifier = load_model('checkpoint')"
      ]
    },
    {
      "cell_type": "markdown",
      "metadata": {},
      "source": [
        "Save training metrics"
      ]
    },
    {
      "cell_type": "code",
      "execution_count": null,
      "metadata": {},
      "outputs": [],
      "source": [
        "if not os.path.isdir('metrics'):\n",
        "  os.mkdir('metrics')\n",
        "\n",
        "train_losses = history.history['loss']\n",
        "train_accuracies = history.history['accuracy']\n",
        "train_f1_scores = history.history['f1_score']\n",
        "\n",
        "test_losses = history.history['val_loss']\n",
        "test_accuracies = history.history['val_accuracy']\n",
        "test_f1_scores = history.history['val_f1_score']\n",
        "\n",
        "np.save('metrics/train_losses.npy', train_losses)\n",
        "np.save('metrics/train_accuracies.npy', train_accuracies)\n",
        "np.save('metrics/train_f1_scores.npy', train_f1_scores)\n",
        "\n",
        "np.save('metrics/test_losses.npy', test_losses)\n",
        "np.save('metrics/test_accuracies.npy', test_accuracies)\n",
        "np.save('metrics/test_f1_scores.npy', test_f1_scores)"
      ]
    },
    {
      "cell_type": "markdown",
      "metadata": {},
      "source": [
        "# Evaluation"
      ]
    },
    {
      "cell_type": "markdown",
      "metadata": {
        "id": "gT6JRDyLAMdq"
      },
      "source": [
        "Plot training and validation accuracies"
      ]
    },
    {
      "cell_type": "code",
      "execution_count": null,
      "metadata": {
        "colab": {
          "base_uri": "https://localhost:8080/",
          "height": 851
        },
        "id": "r9TjFRUhAMdr",
        "outputId": "17fc9477-1303-4b6c-f733-ed7db4a06624"
      },
      "outputs": [],
      "source": [
        "# plot losses\n",
        "plt.plot(train_losses)\n",
        "plt.plot(test_losses)\n",
        "plt.title('Training and Testing Loss')\n",
        "plt.xlabel('epoch')\n",
        "plt.ylabel('loss')\n",
        "plt.legend(['train', 'test'])\n",
        "plt.show()\n",
        "\n",
        "# plot accuracies\n",
        "plt.plot(train_accuracies)\n",
        "plt.plot(test_accuracies)\n",
        "plt.title('Training and Testing Accuracy')\n",
        "plt.xlabel('epoch')\n",
        "plt.ylabel('accuracy')\n",
        "plt.legend(['train', 'test'])\n",
        "plt.show()\n",
        "\n",
        "# plot f1 scores\n",
        "plt.plot(train_f1_scores)\n",
        "plt.plot(test_f1_scores)\n",
        "plt.title('Training and Testing F1-Score')\n",
        "plt.xlabel('epoch')\n",
        "plt.ylabel('f1-score')\n",
        "plt.legend(['train', 'test'])\n",
        "plt.show()"
      ]
    },
    {
      "cell_type": "markdown",
      "metadata": {},
      "source": [
        "Plot confusion matrix"
      ]
    },
    {
      "cell_type": "code",
      "execution_count": null,
      "metadata": {
        "colab": {
          "base_uri": "https://localhost:8080/",
          "height": 1000
        },
        "id": "ucd57rPy4Agj",
        "outputId": "954e6af0-6798-4c71-f3bb-af836fd02206"
      },
      "outputs": [],
      "source": [
        "predictions = list(np.argmax(coin_classifier.predict(test_generator), axis=1))\n",
        "true = list(test_generator.labels)\n",
        "\n",
        "fig, ax = plt.subplots(figsize=(16, 16))\n",
        "accuracy = round(accuracy_score(true, predictions) * 100, 2)\n",
        "f1 = round(f1_score(true, predictions, average='macro'), 4)\n",
        "\n",
        "conf_matrix = confusion_matrix(true, predictions)\n",
        "\n",
        "ConfusionMatrixDisplay(conf_matrix, display_labels=labels).plot(\n",
        "  xticks_rotation='vertical',\n",
        "  cmap='plasma',\n",
        "  ax=ax,\n",
        "  colorbar=False,\n",
        ")\n",
        "\n",
        "plt.title(f'Test Set Confusion Matrix - Test Accuracy: {accuracy}% - Test F1: {f1}')\n",
        "plt.show()"
      ]
    },
    {
      "cell_type": "markdown",
      "metadata": {},
      "source": [
        "Print per-class metrics"
      ]
    },
    {
      "cell_type": "code",
      "execution_count": null,
      "metadata": {
        "id": "g-EQCExgOuym"
      },
      "outputs": [],
      "source": [
        "sort_by = 'recall'\n",
        "\n",
        "precisions = precision_score(true, predictions, average=None)\n",
        "recalls = recall_score(true, predictions, average=None)\n",
        "f1_scores = f1_score(true, predictions, average=None)\n",
        "\n",
        "if sort_by == 'precision':\n",
        "  sorted_metric = sorted(enumerate(precisions), key=lambda x: x[1], reverse=True)\n",
        "elif sort_by == 'recall':\n",
        "  sorted_metric = sorted(enumerate(recalls), key=lambda x: x[1], reverse=True)\n",
        "else:\n",
        "   sorted_metric = sorted(enumerate(f1_scores), key=lambda x: x[1], reverse=True)\n",
        "\n",
        "def get_mistakes(class_index):\n",
        "  false_positives = sorted(enumerate(conf_matrix[:,class_index]), key=lambda x: x[1], reverse=True)\n",
        "  false_negatives = sorted(enumerate(conf_matrix[class_index]), key=lambda x: x[1], reverse=True)\n",
        "  false_positives = [(labels[i], count) for i, count in false_positives if count > 0 and i != class_index]\n",
        "  false_negatives = [(labels[i], count) for i, count in false_negatives if count > 0 and i != class_index]\n",
        "  return false_positives, false_negatives\n",
        "\n",
        "for i, metric in sorted_metric:\n",
        "  recall = metric if sort_by == 'recall' else recalls[i]\n",
        "  precision = metric if sort_by == 'precision' else precisions[i]\n",
        "  f1 = metric if sort_by == 'f1_score' else f1_scores[i]\n",
        "  false_positives, false_negatives = get_mistakes(i)\n",
        "  print(f'>>>> {labels[i]} <<<<')\n",
        "  print(f'Precision: {round(precision * 100, 2)}%')\n",
        "  print(f'Recall: {round(recall * 100, 2)}%')\n",
        "  print(f'F1 Score: {round(f1, 4)}')\n",
        "  print(f'False Positives: {false_positives}')\n",
        "  print(f'False Negatives: {false_negatives}')\n",
        "  print()"
      ]
    },
    {
      "cell_type": "markdown",
      "metadata": {
        "id": "2CYnxoVMX-X0"
      },
      "source": [
        "# Save Classifier"
      ]
    },
    {
      "cell_type": "markdown",
      "metadata": {
        "id": "M4BFQxocAMds"
      },
      "source": [
        "Save classifier normally"
      ]
    },
    {
      "cell_type": "code",
      "execution_count": null,
      "metadata": {
        "colab": {
          "base_uri": "https://localhost:8080/"
        },
        "id": "W774JSdCX-X0",
        "outputId": "b1a11a88-12b7-4394-bb73-76c7192d3e04"
      },
      "outputs": [],
      "source": [
        "coin_classifier.save(model_dir)"
      ]
    },
    {
      "cell_type": "markdown",
      "metadata": {
        "id": "1X_K56tFAMds"
      },
      "source": [
        "Save classifier using tflite format"
      ]
    },
    {
      "cell_type": "code",
      "execution_count": null,
      "metadata": {
        "colab": {
          "base_uri": "https://localhost:8080/"
        },
        "id": "6hDOHGKcAMds",
        "outputId": "ad7016db-0d6d-4d59-c6eb-1e1bce48295b"
      },
      "outputs": [],
      "source": [
        "converter = tf.lite.TFLiteConverter.from_saved_model(model_dir)\n",
        "tflite_model = converter.convert()\n",
        "with open(tflite_dir, 'wb') as f:\n",
        "  f.write(tflite_model)"
      ]
    }
  ],
  "metadata": {
    "accelerator": "GPU",
    "colab": {
      "collapsed_sections": [],
      "name": "coin_classifier.ipynb",
      "provenance": []
    },
    "interpreter": {
      "hash": "93fa6f60273b968e7f411f9a967070b350b2836d4fb9143051768999582192e9"
    },
    "kernelspec": {
      "display_name": "Python 3.8.10 64-bit ('base': conda)",
      "name": "python3"
    },
    "language_info": {
      "codemirror_mode": {
        "name": "ipython",
        "version": 3
      },
      "file_extension": ".py",
      "mimetype": "text/x-python",
      "name": "python",
      "nbconvert_exporter": "python",
      "pygments_lexer": "ipython3",
      "version": "3.8.12"
    }
  },
  "nbformat": 4,
  "nbformat_minor": 0
}
